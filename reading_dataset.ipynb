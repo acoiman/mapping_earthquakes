{
 "cells": [
  {
   "cell_type": "markdown",
   "metadata": {},
   "source": [
    "# Title\n",
    "*reading_dataset.ipynb*\n",
    "\n",
    "## Purpose\n",
    "Read through the [Rdatasets](https://vincentarelbundock.github.io/Rdatasets/) and look for dataset links containing the terms ***latitude*** and ***longitude***.\n",
    "\n",
    "## Metodology\n",
    "\n",
    "- Get the datasets in CSV format\n",
    "- Open and read the CSV file\n",
    "- Look for the words latitude and longitude (Data Mining)\n",
    "\n",
    "\n",
    "## Results\n",
    "A list of links of datasets containing the terms ***latitude*** and ***longitude***.\n",
    "\n",
    "From this link we will select a dataset for the next steps.\n",
    "\n",
    "## Library import\n",
    "We import all the required Python libraries"
   ]
  },
  {
   "cell_type": "code",
   "execution_count": 7,
   "metadata": {},
   "outputs": [],
   "source": [
    "import requests\n",
    "import csv\n",
    "from urllib.request import urlopen\n",
    "from bs4 import BeautifulSoup\n",
    "import ssl\n",
    "import re"
   ]
  },
  {
   "cell_type": "markdown",
   "metadata": {},
   "source": [
    "## Data import\n",
    "We retrieve the list of available datasets from [Rdatasets](https://vincentarelbundock.github.io/Rdatasets/).\n",
    "\n",
    "### Get the datasets in CSV format"
   ]
  },
  {
   "cell_type": "code",
   "execution_count": 9,
   "metadata": {},
   "outputs": [],
   "source": [
    "# get the the datasets in csv format from the url \n",
    "!wget 'http://vincentarelbundock.github.com/Rdatasets/datasets.csv'"
   ]
  },
  {
   "cell_type": "markdown",
   "metadata": {},
   "source": [
    "### Open and read the CSV file"
   ]
  },
  {
   "cell_type": "code",
   "execution_count": 10,
   "metadata": {},
   "outputs": [],
   "source": [
    "f = open('datasets.csv')\n",
    "csv_f = csv.reader(f)\n",
    "# import pandas as pd\n",
    "# data = pd.read_csv(f)"
   ]
  },
  {
   "cell_type": "markdown",
   "metadata": {},
   "source": [
    "## Look for the words latitude and longitude\n",
    "Next we look for the terms `latitude` and `longitude` inside each dataset HTML code (data mining)"
   ]
  },
  {
   "cell_type": "code",
   "execution_count": 11,
   "metadata": {},
   "outputs": [],
   "source": [
    "# create list to store results\n",
    "url_list=[]\n",
    "sel_list = []\n",
    "sel_list2 = []"
   ]
  },
  {
   "cell_type": "markdown",
   "metadata": {},
   "source": [
    "Be patient...the mining process takes time..."
   ]
  },
  {
   "cell_type": "code",
   "execution_count": 12,
   "metadata": {},
   "outputs": [
    {
     "name": "stdout",
     "output_type": "stream",
     "text": [
      "working\n",
      "List of datasets containing the terms latitude and longitude: \n",
      " ['https://raw.github.com/vincentarelbundock/Rdatasets/master/doc/boot/polar.html', 'https://raw.github.com/vincentarelbundock/Rdatasets/master/doc/carData/Depredations.html', 'https://raw.github.com/vincentarelbundock/Rdatasets/master/doc/carData/MplsStops.html', 'https://raw.github.com/vincentarelbundock/Rdatasets/master/doc/DAAG/aulatlong.html', 'https://raw.github.com/vincentarelbundock/Rdatasets/master/doc/DAAG/dengue.html', 'https://raw.github.com/vincentarelbundock/Rdatasets/master/doc/DAAG/leafshape.html', 'https://raw.github.com/vincentarelbundock/Rdatasets/master/doc/DAAG/leafshape17.html', 'https://raw.github.com/vincentarelbundock/Rdatasets/master/doc/DAAG/possumsites.html', 'https://raw.github.com/vincentarelbundock/Rdatasets/master/doc/datasets/quakes.html', 'https://raw.github.com/vincentarelbundock/Rdatasets/master/doc/HistData/Langren.all.html', 'https://raw.github.com/vincentarelbundock/Rdatasets/master/doc/HistData/Langren1644.html', 'https://raw.github.com/vincentarelbundock/Rdatasets/master/doc/HistData/Minard.cities.html', 'https://raw.github.com/vincentarelbundock/Rdatasets/master/doc/HistData/Minard.temp.html', 'https://raw.github.com/vincentarelbundock/Rdatasets/master/doc/HistData/Minard.troops.html', 'https://raw.github.com/vincentarelbundock/Rdatasets/master/doc/HistData/OldMaps.html', 'https://raw.github.com/vincentarelbundock/Rdatasets/master/doc/HSAUR/BCG.html', 'https://raw.github.com/vincentarelbundock/Rdatasets/master/doc/plyr/ozone.html', 'https://raw.github.com/vincentarelbundock/Rdatasets/master/doc/psych/cities.html', 'https://raw.github.com/vincentarelbundock/Rdatasets/master/doc/quantreg/Bosco.html', 'https://raw.github.com/vincentarelbundock/Rdatasets/master/doc/Stat2Data/RailsTrails.html']\n"
     ]
    }
   ],
   "source": [
    "print('Working...\\n')\n",
    "with open('datasets.csv', newline='') as csvfile:\n",
    "    reader = csv.DictReader(csvfile)\n",
    "    for row in reader:\n",
    "        url_list.append(row['Doc'])\n",
    "    for url in url_list:\n",
    "        ctx = ssl.create_default_context()\n",
    "        ctx.check_hostname = False\n",
    "        ctx.verify_mode = ssl.CERT_NONE\n",
    "        r = requests.get(url)\n",
    "        if r.status_code == 200:\n",
    "            html = urlopen(url, context=ctx).read()\n",
    "            soup = BeautifulSoup(html, \"html.parser\")\n",
    "            for item in soup:\n",
    "                # find latitude or longitude word\n",
    "                if soup.find_all(text=re.compile(r'\\blatitude\\b | \\blongitude\\b', flags=re.I | re.X)):\n",
    "                    sel_list.append(url)\n",
    "                else:\n",
    "                    continue\n",
    "        else:\n",
    "            continue\n",
    "    for item2 in sel_list:\n",
    "        if item2 not in sel_list2:\n",
    "            sel_list2.append(item2)\n",
    "    print('List of datasets containing the terms latitude and longitude: \\n', sel_list2)"
   ]
  },
  {
   "cell_type": "markdown",
   "metadata": {},
   "source": [
    "## Select a dataset\n",
    "\n",
    "We get 20 HTML links containing the word latitude and / or longitude, next we select a dataset for the next steps\n"
   ]
  },
  {
   "cell_type": "code",
   "execution_count": 15,
   "metadata": {},
   "outputs": [
    {
     "name": "stdout",
     "output_type": "stream",
     "text": [
      "The selected dataset is:  https://raw.github.com/vincentarelbundock/Rdatasets/master/doc/datasets/quakes.html\n"
     ]
    }
   ],
   "source": [
    "print('The selected dataset is: ', sel_list2[8])"
   ]
  },
  {
   "cell_type": "markdown",
   "metadata": {},
   "source": [
    "***Execute `db_earthquakes.ipynb` to create a database from the selected dataset and computes some spatial statistics.***"
   ]
  }
 ],
 "metadata": {
  "kernelspec": {
   "display_name": "Python 3",
   "language": "python",
   "name": "python3"
  },
  "language_info": {
   "codemirror_mode": {
    "name": "ipython",
    "version": 3
   },
   "file_extension": ".py",
   "mimetype": "text/x-python",
   "name": "python",
   "nbconvert_exporter": "python",
   "pygments_lexer": "ipython3",
   "version": "3.7.6"
  }
 },
 "nbformat": 4,
 "nbformat_minor": 4
}
