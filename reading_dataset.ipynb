{
 "cells": [
  {
   "cell_type": "markdown",
   "metadata": {},
   "source": [
    "# Part 1: Reading Datasets \n",
    "\n",
    "This is the part 1 of our 3-part series on Retrieving, Analyzing and Visualizing georeferenced data of earthquakes. We are using a list of available datasets from [Rdatasets](https://vincentarelbundock.github.io/Rdatasets/). This list in CSV format will be imported, opened and read. Then, we will look for the words `latitude` or `longitude` inside each dataset HTML code [(web crawling)](https://en.wikipedia.org/wiki/Web_crawler). Finally, from the resulting list, we will select a dataset that will be used to create the database and the map.\n",
    "\n",
    "First, we will import all the required Python libraries"
   ]
  },
  {
   "cell_type": "code",
   "execution_count": 1,
   "metadata": {},
   "outputs": [],
   "source": [
    "import requests\n",
    "import csv\n",
    "from urllib.request import urlopen\n",
    "from bs4 import BeautifulSoup\n",
    "import ssl\n",
    "import re\n",
    "import itertools"
   ]
  },
  {
   "cell_type": "markdown",
   "metadata": {},
   "source": [
    "## Getting the the collection of datasets in CSV format\n",
    "\n",
    "In this step, we will use the URL provided by [Rdatasets](https://vincentarelbundock.github.io/Rdatasets/) to download a CSV file containing, among other features, CSV data URL and documentation (HTML) URL of over 1300 datasets."
   ]
  },
  {
   "cell_type": "code",
   "execution_count": 2,
   "metadata": {},
   "outputs": [
    {
     "name": "stdout",
     "output_type": "stream",
     "text": [
      "--2020-03-07 20:53:45--  http://vincentarelbundock.github.com/Rdatasets/datasets.csv\n",
      "Resolving vincentarelbundock.github.com (vincentarelbundock.github.com)... 185.199.108.153, 185.199.109.153, 185.199.111.153, ...\n",
      "Connecting to vincentarelbundock.github.com (vincentarelbundock.github.com)|185.199.108.153|:80... connected.\n",
      "HTTP request sent, awaiting response... 301 Moved Permanently\n",
      "Location: http://vincentarelbundock.github.io/Rdatasets/datasets.csv [following]\n",
      "--2020-03-07 20:53:46--  http://vincentarelbundock.github.io/Rdatasets/datasets.csv\n",
      "Resolving vincentarelbundock.github.io (vincentarelbundock.github.io)... 185.199.111.153, 185.199.108.153, 185.199.110.153, ...\n",
      "Reusing existing connection to vincentarelbundock.github.com:80.\n",
      "HTTP request sent, awaiting response... 200 OK\n",
      "Length: 329694 (322K) [text/csv]\n",
      "Saving to: ‘datasets.csv’\n",
      "\n",
      "datasets.csv        100%[===================>] 321.97K  --.-KB/s    in 0.06s   \n",
      "\n",
      "2020-03-07 20:53:46 (5.45 MB/s) - ‘datasets.csv’ saved [329694/329694]\n",
      "\n"
     ]
    }
   ],
   "source": [
    "!wget 'http://vincentarelbundock.github.com/Rdatasets/datasets.csv'"
   ]
  },
  {
   "cell_type": "markdown",
   "metadata": {},
   "source": [
    "### Exploring the collection of datasets\n",
    "\n",
    "Let's explore the first three rows of the collection dataset. We can see many column names, but we are interested in the `CSV` and `Doc` columns. We can also see that there are 1340 datasets in the collection."
   ]
  },
  {
   "cell_type": "code",
   "execution_count": 3,
   "metadata": {},
   "outputs": [
    {
     "name": "stdout",
     "output_type": "stream",
     "text": [
      "['Package', 'Item', 'Title', 'Rows', 'Cols', 'n_binary', 'n_character', 'n_factor', 'n_logical', 'n_numeric', 'CSV', 'Doc']\n",
      "['boot', 'acme', 'Monthly Excess Returns', '60', '3', '0', '1', '0', '0', '2', 'https://raw.github.com/vincentarelbundock/Rdatasets/master/csv/boot/acme.csv', 'https://raw.github.com/vincentarelbundock/Rdatasets/master/doc/boot/acme.html']\n",
      "['boot', 'aids', 'Delay in AIDS Reporting in England and Wales', '570', '6', '1', '0', '0', '0', '6', 'https://raw.github.com/vincentarelbundock/Rdatasets/master/csv/boot/aids.csv', 'https://raw.github.com/vincentarelbundock/Rdatasets/master/doc/boot/aids.html']\n"
     ]
    }
   ],
   "source": [
    "# print the first three rows\n",
    "file = open('datasets.csv', 'r')\n",
    "csvReader1 = csv.reader(file)\n",
    "for row in itertools.islice(csvReader1, 3):\n",
    "    print(row)"
   ]
  },
  {
   "cell_type": "code",
   "execution_count": 4,
   "metadata": {},
   "outputs": [
    {
     "name": "stdout",
     "output_type": "stream",
     "text": [
      "1340\n"
     ]
    }
   ],
   "source": [
    "# get the number of datasets in the file\n",
    "file = open(\"datasets.csv\")\n",
    "numline = len(file.readlines())\n",
    "print (numline-1) # minus the header"
   ]
  },
  {
   "cell_type": "markdown",
   "metadata": {},
   "source": [
    "## Processing the collection of datasets\n",
    "\n",
    "Next, we will look for the word latitude or longitude inside each dataset HTML code. To do that we will create various empty lists to store the intermediate and final results. Then, we will open again the dataset collection dataset and append in a list all the content of the `Doc` column which consists of HTML documents links. Finally, we will perform the web scrawling process itself."
   ]
  },
  {
   "cell_type": "code",
   "execution_count": 5,
   "metadata": {},
   "outputs": [],
   "source": [
    "# create list to store results\n",
    "url_list=[]\n",
    "sel_list = []\n",
    "sel_list2 = []"
   ]
  },
  {
   "cell_type": "markdown",
   "metadata": {},
   "source": [
    "Be patient...the crawling process takes time..."
   ]
  },
  {
   "cell_type": "code",
   "execution_count": 6,
   "metadata": {},
   "outputs": [
    {
     "name": "stdout",
     "output_type": "stream",
     "text": [
      "Working...\n",
      "\n",
      "\n",
      "List of datasets containing the terms latitude or longitude: \n",
      " ['https://raw.github.com/vincentarelbundock/Rdatasets/master/doc/boot/polar.html', 'https://raw.github.com/vincentarelbundock/Rdatasets/master/doc/carData/Depredations.html', 'https://raw.github.com/vincentarelbundock/Rdatasets/master/doc/carData/MplsStops.html', 'https://raw.github.com/vincentarelbundock/Rdatasets/master/doc/DAAG/aulatlong.html', 'https://raw.github.com/vincentarelbundock/Rdatasets/master/doc/DAAG/dengue.html', 'https://raw.github.com/vincentarelbundock/Rdatasets/master/doc/DAAG/leafshape.html', 'https://raw.github.com/vincentarelbundock/Rdatasets/master/doc/DAAG/leafshape17.html', 'https://raw.github.com/vincentarelbundock/Rdatasets/master/doc/DAAG/possumsites.html', 'https://raw.github.com/vincentarelbundock/Rdatasets/master/doc/datasets/quakes.html', 'https://raw.github.com/vincentarelbundock/Rdatasets/master/doc/HistData/Langren.all.html', 'https://raw.github.com/vincentarelbundock/Rdatasets/master/doc/HistData/Langren1644.html', 'https://raw.github.com/vincentarelbundock/Rdatasets/master/doc/HistData/Minard.cities.html', 'https://raw.github.com/vincentarelbundock/Rdatasets/master/doc/HistData/Minard.temp.html', 'https://raw.github.com/vincentarelbundock/Rdatasets/master/doc/HistData/Minard.troops.html', 'https://raw.github.com/vincentarelbundock/Rdatasets/master/doc/HistData/OldMaps.html', 'https://raw.github.com/vincentarelbundock/Rdatasets/master/doc/HSAUR/BCG.html', 'https://raw.github.com/vincentarelbundock/Rdatasets/master/doc/plyr/ozone.html', 'https://raw.github.com/vincentarelbundock/Rdatasets/master/doc/psych/cities.html', 'https://raw.github.com/vincentarelbundock/Rdatasets/master/doc/quantreg/Bosco.html', 'https://raw.github.com/vincentarelbundock/Rdatasets/master/doc/Stat2Data/RailsTrails.html']\n"
     ]
    }
   ],
   "source": [
    "print('Working...\\n')\n",
    "print()\n",
    "\n",
    "# open the collection dataset\n",
    "with open('datasets.csv', newline='') as csvfile:\n",
    "    reader = csv.DictReader(csvfile)\n",
    "    # append in a list all the content of the Doc column \n",
    "    for row in reader:\n",
    "        url_list.append(row['Doc'])\n",
    "    for url in url_list:\n",
    "        ctx = ssl.create_default_context()\n",
    "        ctx.check_hostname = False\n",
    "        ctx.verify_mode = ssl.CERT_NONE\n",
    "        r = requests.get(url)\n",
    "        if r.status_code == 200:\n",
    "            html = urlopen(url, context=ctx).read()\n",
    "            soup = BeautifulSoup(html, \"html.parser\")\n",
    "            for item in soup:\n",
    "                # find latitude or longitude word\n",
    "                if soup.find_all(text=re.compile(r'\\blatitude\\b | \\blongitude\\b', flags=re.I | re.X)):\n",
    "                    sel_list.append(url)\n",
    "                else:\n",
    "                    continue\n",
    "        else:\n",
    "            continue\n",
    "    for item2 in sel_list:\n",
    "        if item2 not in sel_list2:\n",
    "            sel_list2.append(item2)\n",
    "    print('List of datasets containing the terms latitude or longitude: \\n', sel_list2)"
   ]
  },
  {
   "cell_type": "markdown",
   "metadata": {},
   "source": [
    "## Selecting a dataset\n",
    "\n",
    "From 1340 datasets we obtained 20 HTML links containing the word latitude and/or longitude, next we will select a dataset for the next steps."
   ]
  },
  {
   "cell_type": "code",
   "execution_count": 7,
   "metadata": {},
   "outputs": [
    {
     "name": "stdout",
     "output_type": "stream",
     "text": [
      "The selected dataset is:  https://raw.github.com/vincentarelbundock/Rdatasets/master/doc/datasets/quakes.html\n"
     ]
    }
   ],
   "source": [
    "print('The selected dataset is: ', sel_list2[8])"
   ]
  },
  {
   "cell_type": "markdown",
   "metadata": {},
   "source": [
    "***Execute `db_earthquakes.ipynb` to create a database from the selected dataset and perform some spatial analysis.***"
   ]
  }
 ],
 "metadata": {
  "kernelspec": {
   "display_name": "Python 3",
   "language": "python",
   "name": "python3"
  },
  "language_info": {
   "codemirror_mode": {
    "name": "ipython",
    "version": 3
   },
   "file_extension": ".py",
   "mimetype": "text/x-python",
   "name": "python",
   "nbconvert_exporter": "python",
   "pygments_lexer": "ipython3",
   "version": "3.7.6"
  }
 },
 "nbformat": 4,
 "nbformat_minor": 4
}
